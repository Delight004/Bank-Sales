{
 "cells": [
  {
   "cell_type": "code",
   "execution_count": 2,
   "id": "72fe76ca-7358-4c6b-a7f1-d82c239f2e58",
   "metadata": {},
   "outputs": [],
   "source": [
    "import numpy as np\n",
    "import pandas as pd"
   ]
  },
  {
   "cell_type": "code",
   "execution_count": 4,
   "id": "31b47190-2206-4fd7-8084-232b446de1b9",
   "metadata": {},
   "outputs": [],
   "source": [
    "bank = pd.read_csv('large_bank_sales.csv')"
   ]
  },
  {
   "cell_type": "code",
   "execution_count": 6,
   "id": "d3ee5a1e-a42d-46bc-a643-e004cd4e96d3",
   "metadata": {},
   "outputs": [
    {
     "data": {
      "text/html": [
       "<div>\n",
       "<style scoped>\n",
       "    .dataframe tbody tr th:only-of-type {\n",
       "        vertical-align: middle;\n",
       "    }\n",
       "\n",
       "    .dataframe tbody tr th {\n",
       "        vertical-align: top;\n",
       "    }\n",
       "\n",
       "    .dataframe thead th {\n",
       "        text-align: right;\n",
       "    }\n",
       "</style>\n",
       "<table border=\"1\" class=\"dataframe\">\n",
       "  <thead>\n",
       "    <tr style=\"text-align: right;\">\n",
       "      <th></th>\n",
       "      <th>CustomerID</th>\n",
       "      <th>Age</th>\n",
       "      <th>Income</th>\n",
       "      <th>Product</th>\n",
       "      <th>Amount</th>\n",
       "      <th>Region</th>\n",
       "    </tr>\n",
       "  </thead>\n",
       "  <tbody>\n",
       "    <tr>\n",
       "      <th>0</th>\n",
       "      <td>1</td>\n",
       "      <td>53</td>\n",
       "      <td>83835</td>\n",
       "      <td>A</td>\n",
       "      <td>1818</td>\n",
       "      <td>North</td>\n",
       "    </tr>\n",
       "    <tr>\n",
       "      <th>1</th>\n",
       "      <td>2</td>\n",
       "      <td>55</td>\n",
       "      <td>52784</td>\n",
       "      <td>B</td>\n",
       "      <td>1785</td>\n",
       "      <td>South</td>\n",
       "    </tr>\n",
       "    <tr>\n",
       "      <th>2</th>\n",
       "      <td>3</td>\n",
       "      <td>66</td>\n",
       "      <td>79544</td>\n",
       "      <td>D</td>\n",
       "      <td>4478</td>\n",
       "      <td>North</td>\n",
       "    </tr>\n",
       "    <tr>\n",
       "      <th>3</th>\n",
       "      <td>4</td>\n",
       "      <td>26</td>\n",
       "      <td>115156</td>\n",
       "      <td>C</td>\n",
       "      <td>4436</td>\n",
       "      <td>South</td>\n",
       "    </tr>\n",
       "    <tr>\n",
       "      <th>4</th>\n",
       "      <td>5</td>\n",
       "      <td>46</td>\n",
       "      <td>111132</td>\n",
       "      <td>D</td>\n",
       "      <td>4055</td>\n",
       "      <td>East</td>\n",
       "    </tr>\n",
       "  </tbody>\n",
       "</table>\n",
       "</div>"
      ],
      "text/plain": [
       "   CustomerID  Age  Income Product  Amount Region\n",
       "0           1   53   83835       A    1818  North\n",
       "1           2   55   52784       B    1785  South\n",
       "2           3   66   79544       D    4478  North\n",
       "3           4   26  115156       C    4436  South\n",
       "4           5   46  111132       D    4055   East"
      ]
     },
     "execution_count": 6,
     "metadata": {},
     "output_type": "execute_result"
    }
   ],
   "source": [
    "bank.head()"
   ]
  },
  {
   "cell_type": "code",
   "execution_count": 10,
   "id": "405d6dea-22ea-46b6-9290-a7d5fa4420b7",
   "metadata": {},
   "outputs": [],
   "source": [
    "bank.to_csv('new_dataset.csv', index= False)"
   ]
  },
  {
   "cell_type": "code",
   "execution_count": 16,
   "id": "859e29fb-fadb-467f-8fb8-a68f03c0fd21",
   "metadata": {},
   "outputs": [
    {
     "data": {
      "text/plain": [
       "0        False\n",
       "1        False\n",
       "2        False\n",
       "3         True\n",
       "4         True\n",
       "         ...  \n",
       "49995    False\n",
       "49996    False\n",
       "49997    False\n",
       "49998    False\n",
       "49999    False\n",
       "Name: Income, Length: 50000, dtype: bool"
      ]
     },
     "execution_count": 16,
     "metadata": {},
     "output_type": "execute_result"
    }
   ],
   "source": [
    "bank['Income']>100000"
   ]
  },
  {
   "cell_type": "code",
   "execution_count": 38,
   "id": "97c196e4-e678-45d6-9871-9d062f4b3360",
   "metadata": {},
   "outputs": [
    {
     "data": {
      "text/html": [
       "<div>\n",
       "<style scoped>\n",
       "    .dataframe tbody tr th:only-of-type {\n",
       "        vertical-align: middle;\n",
       "    }\n",
       "\n",
       "    .dataframe tbody tr th {\n",
       "        vertical-align: top;\n",
       "    }\n",
       "\n",
       "    .dataframe thead th {\n",
       "        text-align: right;\n",
       "    }\n",
       "</style>\n",
       "<table border=\"1\" class=\"dataframe\">\n",
       "  <thead>\n",
       "    <tr style=\"text-align: right;\">\n",
       "      <th></th>\n",
       "      <th>CustomerID</th>\n",
       "      <th>Age</th>\n",
       "      <th>Income</th>\n",
       "      <th>Product</th>\n",
       "      <th>Amount</th>\n",
       "      <th>Region</th>\n",
       "    </tr>\n",
       "  </thead>\n",
       "  <tbody>\n",
       "    <tr>\n",
       "      <th>15</th>\n",
       "      <td>16</td>\n",
       "      <td>68</td>\n",
       "      <td>112207</td>\n",
       "      <td>A</td>\n",
       "      <td>3648</td>\n",
       "      <td>North</td>\n",
       "    </tr>\n",
       "    <tr>\n",
       "      <th>18</th>\n",
       "      <td>19</td>\n",
       "      <td>65</td>\n",
       "      <td>110147</td>\n",
       "      <td>C</td>\n",
       "      <td>1408</td>\n",
       "      <td>West</td>\n",
       "    </tr>\n",
       "    <tr>\n",
       "      <th>27</th>\n",
       "      <td>28</td>\n",
       "      <td>54</td>\n",
       "      <td>115208</td>\n",
       "      <td>E</td>\n",
       "      <td>2894</td>\n",
       "      <td>South</td>\n",
       "    </tr>\n",
       "    <tr>\n",
       "      <th>32</th>\n",
       "      <td>33</td>\n",
       "      <td>63</td>\n",
       "      <td>102704</td>\n",
       "      <td>D</td>\n",
       "      <td>1492</td>\n",
       "      <td>North</td>\n",
       "    </tr>\n",
       "    <tr>\n",
       "      <th>37</th>\n",
       "      <td>38</td>\n",
       "      <td>57</td>\n",
       "      <td>101431</td>\n",
       "      <td>A</td>\n",
       "      <td>2384</td>\n",
       "      <td>East</td>\n",
       "    </tr>\n",
       "    <tr>\n",
       "      <th>...</th>\n",
       "      <td>...</td>\n",
       "      <td>...</td>\n",
       "      <td>...</td>\n",
       "      <td>...</td>\n",
       "      <td>...</td>\n",
       "      <td>...</td>\n",
       "    </tr>\n",
       "    <tr>\n",
       "      <th>49941</th>\n",
       "      <td>49942</td>\n",
       "      <td>63</td>\n",
       "      <td>106231</td>\n",
       "      <td>D</td>\n",
       "      <td>1931</td>\n",
       "      <td>East</td>\n",
       "    </tr>\n",
       "    <tr>\n",
       "      <th>49970</th>\n",
       "      <td>49971</td>\n",
       "      <td>69</td>\n",
       "      <td>113070</td>\n",
       "      <td>D</td>\n",
       "      <td>1624</td>\n",
       "      <td>West</td>\n",
       "    </tr>\n",
       "    <tr>\n",
       "      <th>49975</th>\n",
       "      <td>49976</td>\n",
       "      <td>61</td>\n",
       "      <td>102867</td>\n",
       "      <td>A</td>\n",
       "      <td>984</td>\n",
       "      <td>North</td>\n",
       "    </tr>\n",
       "    <tr>\n",
       "      <th>49985</th>\n",
       "      <td>49986</td>\n",
       "      <td>67</td>\n",
       "      <td>112302</td>\n",
       "      <td>C</td>\n",
       "      <td>1999</td>\n",
       "      <td>South</td>\n",
       "    </tr>\n",
       "    <tr>\n",
       "      <th>49986</th>\n",
       "      <td>49987</td>\n",
       "      <td>70</td>\n",
       "      <td>114650</td>\n",
       "      <td>E</td>\n",
       "      <td>1636</td>\n",
       "      <td>North</td>\n",
       "    </tr>\n",
       "  </tbody>\n",
       "</table>\n",
       "<p>4394 rows × 6 columns</p>\n",
       "</div>"
      ],
      "text/plain": [
       "       CustomerID  Age  Income Product  Amount Region\n",
       "15             16   68  112207       A    3648  North\n",
       "18             19   65  110147       C    1408   West\n",
       "27             28   54  115208       E    2894  South\n",
       "32             33   63  102704       D    1492  North\n",
       "37             38   57  101431       A    2384   East\n",
       "...           ...  ...     ...     ...     ...    ...\n",
       "49941       49942   63  106231       D    1931   East\n",
       "49970       49971   69  113070       D    1624   West\n",
       "49975       49976   61  102867       A     984  North\n",
       "49985       49986   67  112302       C    1999  South\n",
       "49986       49987   70  114650       E    1636  North\n",
       "\n",
       "[4394 rows x 6 columns]"
      ]
     },
     "execution_count": 38,
     "metadata": {},
     "output_type": "execute_result"
    }
   ],
   "source": [
    "bank[(bank['Income']>100000) & (bank['Age']>50)]"
   ]
  },
  {
   "cell_type": "code",
   "execution_count": 40,
   "id": "77fa82fe-2c5b-4880-a9c0-e5819c54e183",
   "metadata": {},
   "outputs": [
    {
     "name": "stdout",
     "output_type": "stream",
     "text": [
      "The total income is 3753353995\n",
      "The average age is 45.04642\n",
      "The minimum age is 20\n",
      "The maximum age is 70\n"
     ]
    }
   ],
   "source": [
    "Total_income = bank['Income'].sum()\n",
    "Average_age = bank['Age'].mean()\n",
    "min_age = bank['Age'].min()\n",
    "max_age = bank['Age'].max()\n",
    "print(f'The total income is {Total_income}')\n",
    "print(f'The average age is {Average_age}')\n",
    "print(f'The minimum age is {min_age}')\n",
    "print(f'The maximum age is {max_age}')"
   ]
  },
  {
   "cell_type": "code",
   "execution_count": 42,
   "id": "327e03d0-cc0c-401a-ac7a-8f1081ce60aa",
   "metadata": {},
   "outputs": [
    {
     "data": {
      "text/html": [
       "<div>\n",
       "<style scoped>\n",
       "    .dataframe tbody tr th:only-of-type {\n",
       "        vertical-align: middle;\n",
       "    }\n",
       "\n",
       "    .dataframe tbody tr th {\n",
       "        vertical-align: top;\n",
       "    }\n",
       "\n",
       "    .dataframe thead th {\n",
       "        text-align: right;\n",
       "    }\n",
       "</style>\n",
       "<table border=\"1\" class=\"dataframe\">\n",
       "  <thead>\n",
       "    <tr style=\"text-align: right;\">\n",
       "      <th></th>\n",
       "      <th>Age</th>\n",
       "      <th>Income</th>\n",
       "    </tr>\n",
       "  </thead>\n",
       "  <tbody>\n",
       "    <tr>\n",
       "      <th>0</th>\n",
       "      <td>53</td>\n",
       "      <td>83835</td>\n",
       "    </tr>\n",
       "    <tr>\n",
       "      <th>1</th>\n",
       "      <td>55</td>\n",
       "      <td>52784</td>\n",
       "    </tr>\n",
       "    <tr>\n",
       "      <th>2</th>\n",
       "      <td>66</td>\n",
       "      <td>79544</td>\n",
       "    </tr>\n",
       "    <tr>\n",
       "      <th>3</th>\n",
       "      <td>26</td>\n",
       "      <td>115156</td>\n",
       "    </tr>\n",
       "    <tr>\n",
       "      <th>4</th>\n",
       "      <td>46</td>\n",
       "      <td>111132</td>\n",
       "    </tr>\n",
       "    <tr>\n",
       "      <th>...</th>\n",
       "      <td>...</td>\n",
       "      <td>...</td>\n",
       "    </tr>\n",
       "    <tr>\n",
       "      <th>49995</th>\n",
       "      <td>60</td>\n",
       "      <td>68743</td>\n",
       "    </tr>\n",
       "    <tr>\n",
       "      <th>49996</th>\n",
       "      <td>21</td>\n",
       "      <td>87653</td>\n",
       "    </tr>\n",
       "    <tr>\n",
       "      <th>49997</th>\n",
       "      <td>70</td>\n",
       "      <td>95587</td>\n",
       "    </tr>\n",
       "    <tr>\n",
       "      <th>49998</th>\n",
       "      <td>50</td>\n",
       "      <td>95968</td>\n",
       "    </tr>\n",
       "    <tr>\n",
       "      <th>49999</th>\n",
       "      <td>70</td>\n",
       "      <td>31966</td>\n",
       "    </tr>\n",
       "  </tbody>\n",
       "</table>\n",
       "<p>50000 rows × 2 columns</p>\n",
       "</div>"
      ],
      "text/plain": [
       "       Age  Income\n",
       "0       53   83835\n",
       "1       55   52784\n",
       "2       66   79544\n",
       "3       26  115156\n",
       "4       46  111132\n",
       "...    ...     ...\n",
       "49995   60   68743\n",
       "49996   21   87653\n",
       "49997   70   95587\n",
       "49998   50   95968\n",
       "49999   70   31966\n",
       "\n",
       "[50000 rows x 2 columns]"
      ]
     },
     "execution_count": 42,
     "metadata": {},
     "output_type": "execute_result"
    }
   ],
   "source": [
    "bank[['Age', 'Income']]"
   ]
  },
  {
   "cell_type": "code",
   "execution_count": 44,
   "id": "01564d7e-4030-4b24-9f23-a64b03cd7c84",
   "metadata": {},
   "outputs": [
    {
     "name": "stdout",
     "output_type": "stream",
     "text": [
      "<class 'pandas.core.frame.DataFrame'>\n",
      "RangeIndex: 50000 entries, 0 to 49999\n",
      "Data columns (total 6 columns):\n",
      " #   Column      Non-Null Count  Dtype \n",
      "---  ------      --------------  ----- \n",
      " 0   CustomerID  50000 non-null  int64 \n",
      " 1   Age         50000 non-null  int64 \n",
      " 2   Income      50000 non-null  int64 \n",
      " 3   Product     50000 non-null  object\n",
      " 4   Amount      50000 non-null  int64 \n",
      " 5   Region      50000 non-null  object\n",
      "dtypes: int64(4), object(2)\n",
      "memory usage: 2.3+ MB\n"
     ]
    }
   ],
   "source": [
    "bank.info()"
   ]
  },
  {
   "cell_type": "code",
   "execution_count": 46,
   "id": "d36f93a2-4839-409a-a662-f21a944a9762",
   "metadata": {},
   "outputs": [
    {
     "data": {
      "text/plain": [
       "CustomerID    0\n",
       "Age           0\n",
       "Income        0\n",
       "Product       0\n",
       "Amount        0\n",
       "Region        0\n",
       "dtype: int64"
      ]
     },
     "execution_count": 46,
     "metadata": {},
     "output_type": "execute_result"
    }
   ],
   "source": [
    "bank.isnull().sum()"
   ]
  },
  {
   "cell_type": "code",
   "execution_count": null,
   "id": "9479e215-f1a5-4f24-9453-3046eb54fa35",
   "metadata": {},
   "outputs": [],
   "source": []
  }
 ],
 "metadata": {
  "kernelspec": {
   "display_name": "Python 3 (ipykernel)",
   "language": "python",
   "name": "python3"
  },
  "language_info": {
   "codemirror_mode": {
    "name": "ipython",
    "version": 3
   },
   "file_extension": ".py",
   "mimetype": "text/x-python",
   "name": "python",
   "nbconvert_exporter": "python",
   "pygments_lexer": "ipython3",
   "version": "3.11.5"
  }
 },
 "nbformat": 4,
 "nbformat_minor": 5
}
